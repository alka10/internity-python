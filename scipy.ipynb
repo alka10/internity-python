{
 "cells": [
  {
   "cell_type": "code",
   "execution_count": 8,
   "id": "1bbeede7",
   "metadata": {},
   "outputs": [
    {
     "name": "stdout",
     "output_type": "stream",
     "text": [
      "[10, 20, 30, 40, 17, 28, 19, 14, 14, 14, 18, 10, 20]\n"
     ]
    },
    {
     "data": {
      "text/plain": [
       "DescribeResult(nobs=13, minmax=(10, 40), mean=19.53846153846154, variance=73.6025641025641, skewness=1.1060522568600528, kurtosis=0.5298657295693414)"
      ]
     },
     "execution_count": 8,
     "metadata": {},
     "output_type": "execute_result"
    }
   ],
   "source": [
    "import numpy as np\n",
    "import math\n",
    "from scipy import stats\n",
    "data=[10,20,30,40,17,28,19,14,14,14,18,10,20]\n",
    "print(data)\n",
    "stats.describe(data)"
   ]
  },
  {
   "cell_type": "code",
   "execution_count": 9,
   "id": "d99f2001",
   "metadata": {},
   "outputs": [
    {
     "data": {
      "text/plain": [
       "16.7667513337844"
      ]
     },
     "execution_count": 9,
     "metadata": {},
     "output_type": "execute_result"
    }
   ],
   "source": [
    "scipy.stats.hmean(data)"
   ]
  },
  {
   "cell_type": "code",
   "execution_count": 10,
   "id": "2189a235",
   "metadata": {},
   "outputs": [
    {
     "data": {
      "text/plain": [
       "18.040586252302397"
      ]
     },
     "execution_count": 10,
     "metadata": {},
     "output_type": "execute_result"
    }
   ],
   "source": [
    "scipy.stats.gmean(data)"
   ]
  },
  {
   "cell_type": "code",
   "execution_count": 11,
   "id": "f197b661",
   "metadata": {},
   "outputs": [
    {
     "data": {
      "text/plain": [
       "2.379440207317099"
      ]
     },
     "execution_count": 11,
     "metadata": {},
     "output_type": "execute_result"
    }
   ],
   "source": [
    "scipy.stats.sem(data)"
   ]
  },
  {
   "cell_type": "code",
   "execution_count": 12,
   "id": "ac1dd158",
   "metadata": {},
   "outputs": [
    {
     "data": {
      "text/plain": [
       "ModeResult(mode=array([14]), count=array([3]))"
      ]
     },
     "execution_count": 12,
     "metadata": {},
     "output_type": "execute_result"
    }
   ],
   "source": [
    "scipy.stats.mode(data)"
   ]
  },
  {
   "cell_type": "code",
   "execution_count": 13,
   "id": "38cd0031",
   "metadata": {},
   "outputs": [
    {
     "data": {
      "text/plain": [
       "1.1060522568600528"
      ]
     },
     "execution_count": 13,
     "metadata": {},
     "output_type": "execute_result"
    }
   ],
   "source": [
    "scipy.stats.skew(data)"
   ]
  },
  {
   "cell_type": "code",
   "execution_count": 14,
   "id": "a250b61f",
   "metadata": {},
   "outputs": [
    {
     "data": {
      "text/plain": [
       "array([-1.15721196,  0.05599413,  1.26920022,  2.4824063 , -0.3079677 ,\n",
       "        1.026559  , -0.06532648, -0.67192953, -0.67192953, -0.67192953,\n",
       "       -0.18664709, -1.15721196,  0.05599413])"
      ]
     },
     "execution_count": 14,
     "metadata": {},
     "output_type": "execute_result"
    }
   ],
   "source": [
    "scipy.stats.zscore(data)"
   ]
  },
  {
   "cell_type": "code",
   "execution_count": null,
   "id": "4168db74",
   "metadata": {},
   "outputs": [],
   "source": []
  }
 ],
 "metadata": {
  "kernelspec": {
   "display_name": "Python 3",
   "language": "python",
   "name": "python3"
  },
  "language_info": {
   "codemirror_mode": {
    "name": "ipython",
    "version": 3
   },
   "file_extension": ".py",
   "mimetype": "text/x-python",
   "name": "python",
   "nbconvert_exporter": "python",
   "pygments_lexer": "ipython3",
   "version": "3.9.5"
  }
 },
 "nbformat": 4,
 "nbformat_minor": 5
}
