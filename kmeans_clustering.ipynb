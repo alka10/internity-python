{
 "cells": [
  {
   "cell_type": "code",
   "execution_count": 1,
   "id": "09715b0a",
   "metadata": {},
   "outputs": [],
   "source": [
    "import matplotlib.pyplot as plt \n",
    "import pandas as pd \n",
    "import numpy as np "
   ]
  },
  {
   "cell_type": "code",
   "execution_count": 10,
   "id": "d44ce057",
   "metadata": {},
   "outputs": [],
   "source": [
    "data = pd.DataFrame({'x':[10,40,38,48,19,34,24,45,52,51,15,55,57,62,64,68,77,71],\n",
    "                      'y':[29,19,20,42,44,36,55,59,63,70,66,62,58,23,14,8,19,7]})"
   ]
  },
  {
   "cell_type": "code",
   "execution_count": 11,
   "id": "ab0bfbb6",
   "metadata": {},
   "outputs": [
    {
     "data": {
      "image/png": "[encoded data removed]",
      "text/plain": [
       "<Figure size 432x288 with 1 Axes>"
      ]
     },
     "metadata": {
      "needs_background": "light"
     },
     "output_type": "display_data"
    }
   ],
   "source": [
    "plt.scatter(data['x'], data['y'])\n",
    "plt.show()"
   ]
  },
  {
   "cell_type": "code",
   "execution_count": 15,
   "id": "4698709e",
   "metadata": {},
   "outputs": [
    {
     "name": "stdout",
     "output_type": "stream",
     "text": [
      "{1: [27, 49], 2: [48, 6], 3: [70, 74], 4: [11, 54]}\n"
     ]
    }
   ],
   "source": [
    "centroids={i+1:[np.random.randint(0,80),np.random.randint(0,80)] \n",
    "          for i in range(4)}\n",
    "\n",
    "print(centroids)"
   ]
  },
  {
   "cell_type": "code",
   "execution_count": 16,
   "id": "534049ed",
   "metadata": {},
   "outputs": [
    {
     "data": {
      "image/png": "[encoded data removed]",
      "text/plain": [
       "<Figure size 432x288 with 1 Axes>"
      ]
     },
     "metadata": {
      "needs_background": "light"
     },
     "output_type": "display_data"
    }
   ],
   "source": [
    "plt.scatter(data['x'],data['y'])\n",
    "colmap={1:'r',2:'g',3:'black',4:'y'}\n",
    "for i in centroids.keys():\n",
    "    plt.scatter(*centroids[i],color=colmap[i])\n",
    "plt.show()"
   ]
  },
  {
   "cell_type": "code",
   "execution_count": 17,
   "id": "cc6341ae",
   "metadata": {},
   "outputs": [
    {
     "name": "stdout",
     "output_type": "stream",
     "text": [
      "    x   y  distance_from_1  distance_from_2  distance_from_3  distance_from_4\n",
      "0  10  29            417.0            567.0           2085.0            626.0\n",
      "1  40  19            913.0            177.0           3055.0           1254.0\n",
      "2  38  20            852.0            206.0           2948.0           1183.0\n",
      "3  48  42             70.0           1296.0           1046.0            181.0\n",
      "4  19  44             33.0           1473.0            951.0            108.0\n"
     ]
    }
   ],
   "source": [
    "def func(data,centroids):\n",
    "    for i in centroids.keys():\n",
    "        data['distance_from_{}'.format(i)]=np.sqrt((data['x']-centroids[i][0])**2)+((data['y']-centroids[i][1])**2)\n",
    "    return(data)\n",
    "data = func(data,centroids)\n",
    "print(data.head())"
   ]
  },
  {
   "cell_type": "code",
   "execution_count": 18,
   "id": "6b298eac",
   "metadata": {},
   "outputs": [
    {
     "name": "stdout",
     "output_type": "stream",
     "text": [
      "    x   y  distance_from_1  distance_from_2  distance_from_3  distance_from_4  \\\n",
      "0  10  29            417.0            567.0           2085.0            626.0   \n",
      "1  40  19            913.0            177.0           3055.0           1254.0   \n",
      "2  38  20            852.0            206.0           2948.0           1183.0   \n",
      "3  48  42             70.0           1296.0           1046.0            181.0   \n",
      "4  19  44             33.0           1473.0            951.0            108.0   \n",
      "\n",
      "   closest color  \n",
      "0        1     r  \n",
      "1        2     g  \n",
      "2        2     g  \n",
      "3        1     r  \n",
      "4        1     r  \n"
     ]
    }
   ],
   "source": [
    "def func1(data,centroids):\n",
    "    #sqrt((x1-x2)^2+(y1-y2)^2)\n",
    "    for i in centroids.keys():\n",
    "         data['distance_from_{}'.format(i)]=np.sqrt((data['x']-centroids[i][0])**2)+((data['y']-centroids[i][1])**2)\n",
    "    data['closest']=data.loc[:,'distance_from_1':].idxmin(axis=1)\n",
    "    data['closest']=data['closest'].map(lambda x: int(x.lstrip('distance_from_')))\n",
    "    data['color']=data['closest'].map(lambda x:colmap[x])\n",
    "    return(data)\n",
    "data = func1(data,centroids)\n",
    "print(data.head())"
   ]
  },
  {
   "cell_type": "code",
   "execution_count": 19,
   "id": "18331f79",
   "metadata": {},
   "outputs": [
    {
     "data": {
      "image/png": "[encoded data removed]",
      "text/plain": [
       "<Figure size 432x288 with 1 Axes>"
      ]
     },
     "metadata": {
      "needs_background": "light"
     },
     "output_type": "display_data"
    }
   ],
   "source": [
    "plt.scatter(data['x'], data['y'], color = data['color'])\n",
    "plt.show()"
   ]
  },
  {
   "cell_type": "code",
   "execution_count": 20,
   "id": "24eb0763",
   "metadata": {},
   "outputs": [
    {
     "name": "stdout",
     "output_type": "stream",
     "text": [
      "Old Centroids:  {1: [27, 49], 2: [48, 6], 3: [70, 74], 4: [11, 54]}\n",
      "Centroids:  {1: [27.75, 37.75], 2: [60.0, 15.714285714285714], 3: [33.0, 68.0], 4: [46.6, 59.4]}\n"
     ]
    }
   ],
   "source": [
    "import copy\n",
    "old_centroids=copy.deepcopy(centroids)\n",
    "def update(k):\n",
    "    for i in centroids.keys():\n",
    "        centroids[i][0]=np.mean(data[data['closest']==i]['x'])\n",
    "        centroids[i][1]=np.mean(data[data['closest']==i]['y'])\n",
    "    return(k)\n",
    "centroids=update(centroids)\n",
    "\n",
    "print(\"Old Centroids: \", old_centroids)\n",
    "print(\"Centroids: \", centroids)"
   ]
  },
  {
   "cell_type": "code",
   "execution_count": null,
   "id": "d0cb4080",
   "metadata": {},
   "outputs": [],
   "source": []
  }
 ],
 "metadata": {
  "kernelspec": {
   "display_name": "Python 3",
   "language": "python",
   "name": "python3"
  },
  "language_info": {
   "codemirror_mode": {
    "name": "ipython",
    "version": 3
   },
   "file_extension": ".py",
   "mimetype": "text/x-python",
   "name": "python",
   "nbconvert_exporter": "python",
   "pygments_lexer": "ipython3",
   "version": "3.9.5"
  }
 },
 "nbformat": 4,
 "nbformat_minor": 5
}
