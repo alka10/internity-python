{
 "cells": [
  {
   "cell_type": "code",
   "execution_count": 1,
   "id": "cf120728",
   "metadata": {},
   "outputs": [],
   "source": [
    "import numpy as np\n",
    "from scipy import linalg"
   ]
  },
  {
   "cell_type": "code",
   "execution_count": 3,
   "id": "c006eb23",
   "metadata": {},
   "outputs": [
    {
     "data": {
      "text/plain": [
       "-7.0"
      ]
     },
     "execution_count": 3,
     "metadata": {},
     "output_type": "execute_result"
    }
   ],
   "source": [
    "data=np.array([[1,3,4],[3,4,5],[2,5,8]])\n",
    "linalg.det(data)"
   ]
  },
  {
   "cell_type": "code",
   "execution_count": 15,
   "id": "b0833b58",
   "metadata": {},
   "outputs": [
    {
     "name": "stdout",
     "output_type": "stream",
     "text": [
      "[[-2.   1. ]\n",
      " [ 1.5 -0.5]]\n"
     ]
    }
   ],
   "source": [
    "a=np.array([[1,2],[3,4]])\n",
    "b=linalg.inv(a)\n",
    "print(b)"
   ]
  },
  {
   "cell_type": "code",
   "execution_count": 4,
   "id": "cc66b32e",
   "metadata": {},
   "outputs": [],
   "source": [
    "from scipy import special"
   ]
  },
  {
   "cell_type": "code",
   "execution_count": 5,
   "id": "b1e15c9e",
   "metadata": {},
   "outputs": [
    {
     "name": "stdout",
     "output_type": "stream",
     "text": [
      "100.0\n",
      "4.0\n"
     ]
    }
   ],
   "source": [
    "a=special.exp10(2)\n",
    "print(a)\n",
    "b=special.exp2(2)\n",
    "print(b)"
   ]
  },
  {
   "cell_type": "code",
   "execution_count": 7,
   "id": "89b3c64e",
   "metadata": {},
   "outputs": [
    {
     "name": "stdout",
     "output_type": "stream",
     "text": [
      "1.0\n"
     ]
    }
   ],
   "source": [
    "c=special.sindg(90)\n",
    "print(c)"
   ]
  },
  {
   "cell_type": "code",
   "execution_count": 8,
   "id": "5aaecad2",
   "metadata": {},
   "outputs": [
    {
     "name": "stdout",
     "output_type": "stream",
     "text": [
      "1.0\n"
     ]
    }
   ],
   "source": [
    "d=special.cosdg(0)\n",
    "print(d)"
   ]
  },
  {
   "cell_type": "code",
   "execution_count": 9,
   "id": "5f5fd4b0",
   "metadata": {},
   "outputs": [],
   "source": [
    "from scipy.fftpack import fft,ifft"
   ]
  },
  {
   "cell_type": "code",
   "execution_count": 11,
   "id": "e7d10087",
   "metadata": {},
   "outputs": [
    {
     "name": "stdout",
     "output_type": "stream",
     "text": [
      "[15.        -0.j          1.54508497-0.22451399j -4.04508497+2.48989828j\n",
      " -4.04508497-2.48989828j  1.54508497+0.22451399j]\n"
     ]
    }
   ],
   "source": [
    "x=np.array([2,4,3,1,5])\n",
    "y=fft(x)\n",
    "print(y)"
   ]
  },
  {
   "cell_type": "code",
   "execution_count": 20,
   "id": "ba497b02",
   "metadata": {},
   "outputs": [
    {
     "name": "stdout",
     "output_type": "stream",
     "text": [
      "[-0.21699057+0.j  9.21699057+0.j]\n",
      "[[-0.77925158 -0.54107946]\n",
      " [ 0.62671124 -0.84097147]]\n"
     ]
    }
   ],
   "source": [
    "A=np.array([[3,4],[5,6]])\n",
    "l, v=linalg.eig(A)\n",
    "print(l)\n",
    "print(v)"
   ]
  },
  {
   "cell_type": "code",
   "execution_count": null,
   "id": "0f4d4a5c",
   "metadata": {},
   "outputs": [],
   "source": []
  }
 ],
 "metadata": {
  "kernelspec": {
   "display_name": "Python 3",
   "language": "python",
   "name": "python3"
  },
  "language_info": {
   "codemirror_mode": {
    "name": "ipython",
    "version": 3
   },
   "file_extension": ".py",
   "mimetype": "text/x-python",
   "name": "python",
   "nbconvert_exporter": "python",
   "pygments_lexer": "ipython3",
   "version": "3.9.5"
  }
 },
 "nbformat": 4,
 "nbformat_minor": 5
}
